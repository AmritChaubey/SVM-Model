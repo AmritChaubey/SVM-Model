{
 "cells": [
  {
   "cell_type": "markdown",
   "id": "25892121",
   "metadata": {},
   "source": [
    "## =>Here we are importing the necessary library"
   ]
  },
  {
   "cell_type": "code",
   "execution_count": 2,
   "id": "18762523",
   "metadata": {},
   "outputs": [],
   "source": [
    "import pandas as pd\n",
    "import numpy as np\n",
    "import matplotlib.pyplot as plt"
   ]
  },
  {
   "cell_type": "markdown",
   "id": "8bb26391",
   "metadata": {},
   "source": [
    "## => Here we have imported the file from my local Device"
   ]
  },
  {
   "cell_type": "code",
   "execution_count": 3,
   "id": "81dab8a1",
   "metadata": {},
   "outputs": [
    {
     "data": {
      "text/plain": [
       "ID             699\n",
       "Clump          699\n",
       "UnifSize       699\n",
       "UnifShape      699\n",
       "MargAdh        699\n",
       "SingEpiSize    699\n",
       "BareNuc        699\n",
       "BlandChrom     699\n",
       "NormNucl       699\n",
       "Mit            699\n",
       "Class          699\n",
       "dtype: int64"
      ]
     },
     "execution_count": 3,
     "metadata": {},
     "output_type": "execute_result"
    }
   ],
   "source": [
    "cell_df = pd.read_csv('cell_samples.csv')\n",
    "cell_df.count()"
   ]
  },
  {
   "cell_type": "markdown",
   "id": "30ab6927",
   "metadata": {},
   "source": [
    "## => now We only need class column for our output, so distrubuting the class."
   ]
  },
  {
   "cell_type": "code",
   "execution_count": 4,
   "id": "fb3c210c",
   "metadata": {},
   "outputs": [
    {
     "data": {
      "text/plain": [
       "<AxesSubplot:xlabel='Clump', ylabel='UnifSize'>"
      ]
     },
     "execution_count": 4,
     "metadata": {},
     "output_type": "execute_result"
    },
    {
     "data": {
      "image/png": "[encoded data removed]",
      "text/plain": [
       "<Figure size 432x288 with 1 Axes>"
      ]
     },
     "metadata": {
      "needs_background": "light"
     },
     "output_type": "display_data"
    }
   ],
   "source": [
    "benign_df = cell_df[cell_df['Class']==2][0:300]\n",
    "malignant_df = cell_df[cell_df['Class']==4][0:300]\n",
    "\n",
    "benign_axes = benign_df.plot(kind = 'scatter', x = 'Clump', y = 'UnifSize',color = 'green', label = 'Benign')\n",
    "malignant_df.plot(kind = 'scatter', x = 'Clump', y = 'UnifSize', color = 'red', label = 'malignant', ax = benign_axes)"
   ]
  },
  {
   "cell_type": "markdown",
   "id": "10f99116",
   "metadata": {},
   "source": [
    "## =>Here we try to find the unwanted data rows and try to convert them in numeric data types"
   ]
  },
  {
   "cell_type": "code",
   "execution_count": 5,
   "id": "985f5729",
   "metadata": {},
   "outputs": [
    {
     "data": {
      "text/plain": [
       "ID             int64\n",
       "Clump          int64\n",
       "UnifSize       int64\n",
       "UnifShape      int64\n",
       "MargAdh        int64\n",
       "SingEpiSize    int64\n",
       "BareNuc        int32\n",
       "BlandChrom     int64\n",
       "NormNucl       int64\n",
       "Mit            int64\n",
       "Class          int64\n",
       "dtype: object"
      ]
     },
     "execution_count": 5,
     "metadata": {},
     "output_type": "execute_result"
    }
   ],
   "source": [
    "cell_df.dtypes #here we know BareNuc is of object datatype\n",
    "\n",
    "#here the Barenum is converted into numeric type and all the nonnull are stored in the barenuc of cell_df\n",
    "cell_df = cell_df[pd.to_numeric(cell_df['BareNuc'], errors='coerce').notnull()]\n",
    "cell_df['BareNuc'] = cell_df['BareNuc'].astype('int') #here we converted the numerci data into int datatype\n",
    "\n",
    "cell_df.dtypes"
   ]
  },
  {
   "cell_type": "markdown",
   "id": "51629f88",
   "metadata": {},
   "source": [
    "## =>Here we are removing the unwanted columns from the data set"
   ]
  },
  {
   "cell_type": "code",
   "execution_count": 7,
   "id": "5c5caa33",
   "metadata": {},
   "outputs": [
    {
     "data": {
      "text/plain": [
       "array([2, 2, 2, 2, 2, 4, 2, 2, 2, 2], dtype=int64)"
      ]
     },
     "execution_count": 7,
     "metadata": {},
     "output_type": "execute_result"
    }
   ],
   "source": [
    "cell_df.columns #creating a new df for independent columns\n",
    "\n",
    "feature_df = cell_df[['Clump', 'UnifSize', 'UnifShape', 'MargAdh', 'SingEpiSize',\n",
    "       'BareNuc', 'BlandChrom', 'NormNucl', 'Mit']]\n",
    "\n",
    "#independent Var\n",
    "x = np.asarray(feature_df)\n",
    "#dependent var\n",
    "y = np.asarray(cell_df['Class'])\n",
    "\n",
    "y[0:10]"
   ]
  },
  {
   "cell_type": "markdown",
   "id": "561c006a",
   "metadata": {},
   "source": [
    "## => Here we split the dataset into test and train type"
   ]
  },
  {
   "cell_type": "code",
   "execution_count": 37,
   "id": "92017392",
   "metadata": {},
   "outputs": [
    {
     "data": {
      "text/plain": [
       "(137, 9)"
      ]
     },
     "execution_count": 37,
     "metadata": {},
     "output_type": "execute_result"
    }
   ],
   "source": [
    "'''\n",
    "training dataset will be 80%\n",
    "test dataset will be 20%\n",
    "'''\n",
    "\n",
    "from sklearn.model_selection import train_test_split\n",
    "\n",
    "x_train, x_test, y_train, y_test = train_test_split(x,y, test_size = 0.2, random_state=4)\n",
    "\n",
    "x_train.shape#(546,9)\n",
    "y_train.shape#(546,1)\n",
    "x_test.shape#(137,9)\n",
    "y_test.shape#(137,1)"
   ]
  },
  {
   "cell_type": "markdown",
   "id": "bf2cea5f",
   "metadata": {},
   "source": [
    "## => Here we import the SVM package form sklearn lib."
   ]
  },
  {
   "cell_type": "code",
   "execution_count": 42,
   "id": "3d0a0d2d",
   "metadata": {},
   "outputs": [],
   "source": [
    "from sklearn import svm\n",
    "\n",
    "classifier = svm.SVC(kernel = 'linear', gamma = 'auto', C=2)\n",
    "classifier.fit(x_train, y_train)\n",
    "\n",
    "y_predict = classifier.predict(x_test)"
   ]
  },
  {
   "cell_type": "markdown",
   "id": "488b0399",
   "metadata": {},
   "source": [
    "## => Here we evaluate the results from prevision test data set"
   ]
  },
  {
   "cell_type": "code",
   "execution_count": 44,
   "id": "82d32371",
   "metadata": {},
   "outputs": [
    {
     "name": "stdout",
     "output_type": "stream",
     "text": [
      "              precision    recall  f1-score   support\n",
      "\n",
      "           2       1.00      0.94      0.97        90\n",
      "           4       0.90      1.00      0.95        47\n",
      "\n",
      "    accuracy                           0.96       137\n",
      "   macro avg       0.95      0.97      0.96       137\n",
      "weighted avg       0.97      0.96      0.96       137\n",
      "\n"
     ]
    }
   ],
   "source": [
    "from sklearn.metrics import classification_report\n",
    "\n",
    "print(classification_report(y_test, y_predict))"
   ]
  },
  {
   "cell_type": "code",
   "execution_count": null,
   "id": "53968f97",
   "metadata": {},
   "outputs": [],
   "source": []
  }
 ],
 "metadata": {
  "kernelspec": {
   "display_name": "Python 3 (ipykernel)",
   "language": "python",
   "name": "python3"
  },
  "language_info": {
   "codemirror_mode": {
    "name": "ipython",
    "version": 3
   },
   "file_extension": ".py",
   "mimetype": "text/x-python",
   "name": "python",
   "nbconvert_exporter": "python",
   "pygments_lexer": "ipython3",
   "version": "3.9.6"
  }
 },
 "nbformat": 4,
 "nbformat_minor": 5
}
